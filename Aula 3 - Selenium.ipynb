{
 "cells": [
  {
   "cell_type": "code",
   "execution_count": 21,
   "id": "84f6a1ec",
   "metadata": {
    "colab": {
     "base_uri": "https://localhost:8080/",
     "height": 374
    },
    "executionInfo": {
     "elapsed": 375,
     "status": "error",
     "timestamp": 1649947328755,
     "user": {
      "displayName": "Rodrigo Gil Esteves",
      "userId": "11498031273238183123"
     },
     "user_tz": 180
    },
    "id": "84f6a1ec",
    "outputId": "c0f3c10d-924a-48ae-f5e6-15cff0e55da1"
   },
   "outputs": [],
   "source": [
    "from selenium import webdriver\n",
    "from selenium.webdriver.chrome.service import Service\n",
    "from webdriver_manager.chrome import ChromeDriverManager\n",
    "\n",
    "servico = Service(ChromeDriverManager().install())\n",
    "navegador = webdriver.Chrome(service=servico)"
   ]
  },
  {
   "cell_type": "code",
   "execution_count": 23,
   "id": "c43df1d0",
   "metadata": {
    "id": "c43df1d0"
   },
   "outputs": [],
   "source": [
    "navegador.get(\"https://www.fieltorcedor.com.br/\")"
   ]
  },
  {
   "cell_type": "code",
   "execution_count": null,
   "id": "ac371b7d",
   "metadata": {},
   "outputs": [],
   "source": []
  }
 ],
 "metadata": {
  "colab": {
   "name": "Aula 3 - Selenium.ipynb",
   "provenance": []
  },
  "kernelspec": {
   "display_name": "Python 3 (ipykernel)",
   "language": "python",
   "name": "python3"
  },
  "language_info": {
   "codemirror_mode": {
    "name": "ipython",
    "version": 3
   },
   "file_extension": ".py",
   "mimetype": "text/x-python",
   "name": "python",
   "nbconvert_exporter": "python",
   "pygments_lexer": "ipython3",
   "version": "3.9.7"
  }
 },
 "nbformat": 4,
 "nbformat_minor": 5
}
